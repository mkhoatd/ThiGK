{
 "cells": [
  {
   "attachments": {},
   "cell_type": "markdown",
   "metadata": {},
   "source": [
    "### Flavors of Cacao Rating System:\n",
    "- 5= Elite (Transcending beyond the ordinary limits)\n",
    "- 4= Premium (Superior flavor development, character and style)\n",
    "- 3= Satisfactory(3.0) to praiseworthy(3.75) (well made with special qualities)\n",
    "- 2= Disappointing (Passable but contains at least one significant flaw)\n",
    "- 1= Unpleasant (mostly unpalatable)"
   ]
  },
  {
   "attachments": {},
   "cell_type": "markdown",
   "metadata": {},
   "source": [
    "`Import library`"
   ]
  },
  {
   "cell_type": "code",
   "execution_count": 49,
   "metadata": {},
   "outputs": [],
   "source": [
    "import numpy as np # linear algebra\n",
    "import pandas as pd # data processing, CSV file I/O (e.g. pd.read_csv)\n",
    "\n",
    "import matplotlib.pyplot as plt\n",
    "import plotly.express as px\n",
    "import plotly.figure_factory as ff\n",
    "import seaborn as sns"
   ]
  },
  {
   "attachments": {},
   "cell_type": "markdown",
   "metadata": {},
   "source": [
    "`Read data`"
   ]
  },
  {
   "cell_type": "code",
   "execution_count": 50,
   "metadata": {},
   "outputs": [
    {
     "data": {
      "text/html": [
       "<div>\n",
       "<style scoped>\n",
       "    .dataframe tbody tr th:only-of-type {\n",
       "        vertical-align: middle;\n",
       "    }\n",
       "\n",
       "    .dataframe tbody tr th {\n",
       "        vertical-align: top;\n",
       "    }\n",
       "\n",
       "    .dataframe thead th {\n",
       "        text-align: right;\n",
       "    }\n",
       "</style>\n",
       "<table border=\"1\" class=\"dataframe\">\n",
       "  <thead>\n",
       "    <tr style=\"text-align: right;\">\n",
       "      <th></th>\n",
       "      <th>company</th>\n",
       "      <th>species</th>\n",
       "      <th>REF</th>\n",
       "      <th>review_year</th>\n",
       "      <th>cocoa_percentage</th>\n",
       "      <th>company_location</th>\n",
       "      <th>rating</th>\n",
       "      <th>bean_type</th>\n",
       "      <th>country</th>\n",
       "    </tr>\n",
       "  </thead>\n",
       "  <tbody>\n",
       "    <tr>\n",
       "      <th>1363</th>\n",
       "      <td>Ranger</td>\n",
       "      <td>Chulucanas, Batch 1</td>\n",
       "      <td>1562</td>\n",
       "      <td>2015</td>\n",
       "      <td>80%</td>\n",
       "      <td>U.S.A.</td>\n",
       "      <td>3.25</td>\n",
       "      <td></td>\n",
       "      <td>Peru</td>\n",
       "    </tr>\n",
       "    <tr>\n",
       "      <th>12</th>\n",
       "      <td>A. Morin</td>\n",
       "      <td>Brazil</td>\n",
       "      <td>1011</td>\n",
       "      <td>2013</td>\n",
       "      <td>70%</td>\n",
       "      <td>France</td>\n",
       "      <td>3.25</td>\n",
       "      <td></td>\n",
       "      <td>Brazil</td>\n",
       "    </tr>\n",
       "    <tr>\n",
       "      <th>422</th>\n",
       "      <td>Chocovivo</td>\n",
       "      <td>Tabasco</td>\n",
       "      <td>1522</td>\n",
       "      <td>2015</td>\n",
       "      <td>65%</td>\n",
       "      <td>U.S.A.</td>\n",
       "      <td>2.50</td>\n",
       "      <td>Trinitario</td>\n",
       "      <td>Mexico</td>\n",
       "    </tr>\n",
       "    <tr>\n",
       "      <th>781</th>\n",
       "      <td>Hacienda El Castillo</td>\n",
       "      <td>Don Homero- Cerecita Valley</td>\n",
       "      <td>1327</td>\n",
       "      <td>2014</td>\n",
       "      <td>55%</td>\n",
       "      <td>Ecuador</td>\n",
       "      <td>2.75</td>\n",
       "      <td>Trinitario</td>\n",
       "      <td>Ecuador</td>\n",
       "    </tr>\n",
       "    <tr>\n",
       "      <th>1494</th>\n",
       "      <td>Snake &amp; Butterfly</td>\n",
       "      <td>Ecuador</td>\n",
       "      <td>502</td>\n",
       "      <td>2010</td>\n",
       "      <td>68%</td>\n",
       "      <td>U.S.A.</td>\n",
       "      <td>3.25</td>\n",
       "      <td></td>\n",
       "      <td>Ecuador</td>\n",
       "    </tr>\n",
       "    <tr>\n",
       "      <th>174</th>\n",
       "      <td>Belyzium</td>\n",
       "      <td>Belize south</td>\n",
       "      <td>1768</td>\n",
       "      <td>2016</td>\n",
       "      <td>78%</td>\n",
       "      <td>Germany</td>\n",
       "      <td>3.00</td>\n",
       "      <td>Trinitario</td>\n",
       "      <td>Belize</td>\n",
       "    </tr>\n",
       "    <tr>\n",
       "      <th>471</th>\n",
       "      <td>Cravve</td>\n",
       "      <td>Vanuatu</td>\n",
       "      <td>975</td>\n",
       "      <td>2012</td>\n",
       "      <td>64%</td>\n",
       "      <td>Australia</td>\n",
       "      <td>3.25</td>\n",
       "      <td>Trinitario</td>\n",
       "      <td>Vanuatu</td>\n",
       "    </tr>\n",
       "    <tr>\n",
       "      <th>317</th>\n",
       "      <td>Cacao Store</td>\n",
       "      <td>Madagascar</td>\n",
       "      <td>1684</td>\n",
       "      <td>2015</td>\n",
       "      <td>70%</td>\n",
       "      <td>Japan</td>\n",
       "      <td>3.00</td>\n",
       "      <td>Trinitario</td>\n",
       "      <td>Madagascar</td>\n",
       "    </tr>\n",
       "    <tr>\n",
       "      <th>837</th>\n",
       "      <td>Hotel Chocolat (Coppeneur)</td>\n",
       "      <td>Sambirano</td>\n",
       "      <td>809</td>\n",
       "      <td>2012</td>\n",
       "      <td>66%</td>\n",
       "      <td>U.K.</td>\n",
       "      <td>3.50</td>\n",
       "      <td>Trinitario, Criollo</td>\n",
       "      <td>Madagascar</td>\n",
       "    </tr>\n",
       "    <tr>\n",
       "      <th>822</th>\n",
       "      <td>Holy Cacao</td>\n",
       "      <td>Hispaniola</td>\n",
       "      <td>431</td>\n",
       "      <td>2009</td>\n",
       "      <td>70%</td>\n",
       "      <td>Israel</td>\n",
       "      <td>2.75</td>\n",
       "      <td></td>\n",
       "      <td>Dominican Republic</td>\n",
       "    </tr>\n",
       "  </tbody>\n",
       "</table>\n",
       "</div>"
      ],
      "text/plain": [
       "                         company                      species   REF  \\\n",
       "1363                      Ranger          Chulucanas, Batch 1  1562   \n",
       "12                      A. Morin                       Brazil  1011   \n",
       "422                    Chocovivo                      Tabasco  1522   \n",
       "781         Hacienda El Castillo  Don Homero- Cerecita Valley  1327   \n",
       "1494           Snake & Butterfly                      Ecuador   502   \n",
       "174                     Belyzium                 Belize south  1768   \n",
       "471                       Cravve                      Vanuatu   975   \n",
       "317                  Cacao Store                   Madagascar  1684   \n",
       "837   Hotel Chocolat (Coppeneur)                    Sambirano   809   \n",
       "822                   Holy Cacao                   Hispaniola   431   \n",
       "\n",
       "      review_year cocoa_percentage company_location  rating  \\\n",
       "1363         2015              80%           U.S.A.    3.25   \n",
       "12           2013              70%           France    3.25   \n",
       "422          2015              65%           U.S.A.    2.50   \n",
       "781          2014              55%          Ecuador    2.75   \n",
       "1494         2010              68%           U.S.A.    3.25   \n",
       "174          2016              78%          Germany    3.00   \n",
       "471          2012              64%        Australia    3.25   \n",
       "317          2015              70%            Japan    3.00   \n",
       "837          2012              66%             U.K.    3.50   \n",
       "822          2009              70%           Israel    2.75   \n",
       "\n",
       "                bean_type             country  \n",
       "1363                                     Peru  \n",
       "12                                     Brazil  \n",
       "422            Trinitario              Mexico  \n",
       "781            Trinitario             Ecuador  \n",
       "1494                                  Ecuador  \n",
       "174            Trinitario              Belize  \n",
       "471            Trinitario             Vanuatu  \n",
       "317            Trinitario          Madagascar  \n",
       "837   Trinitario, Criollo          Madagascar  \n",
       "822                        Dominican Republic  "
      ]
     },
     "execution_count": 50,
     "metadata": {},
     "output_type": "execute_result"
    }
   ],
   "source": [
    "#Read file\n",
    "dataset = pd.read_csv(\"flavors_of_cacao.csv\")\n",
    "#Assigns a list of the current column names in the dataset\n",
    "original_cols = dataset.columns\n",
    "#Defines a list of new column names that we want to assign to the columns in the dataset\n",
    "new_cols = ['company', 'species', 'REF', 'review_year', 'cocoa_percentage',\n",
    "                'company_location', 'rating', 'bean_type', 'country']\n",
    "#Change the column names\n",
    "dataset = dataset.rename(columns=dict(zip(original_cols, new_cols)))\n",
    "# dataset.head()\n",
    "dataset.sample(10)"
   ]
  },
  {
   "attachments": {},
   "cell_type": "markdown",
   "metadata": {},
   "source": [
    "Get some info about our dataset."
   ]
  },
  {
   "cell_type": "code",
   "execution_count": 51,
   "metadata": {},
   "outputs": [
    {
     "name": "stdout",
     "output_type": "stream",
     "text": [
      "<class 'pandas.core.frame.DataFrame'>\n",
      "RangeIndex: 1795 entries, 0 to 1794\n",
      "Data columns (total 9 columns):\n",
      " #   Column            Non-Null Count  Dtype  \n",
      "---  ------            --------------  -----  \n",
      " 0   company           1795 non-null   object \n",
      " 1   species           1795 non-null   object \n",
      " 2   REF               1795 non-null   int64  \n",
      " 3   review_year       1795 non-null   int64  \n",
      " 4   cocoa_percentage  1795 non-null   object \n",
      " 5   company_location  1795 non-null   object \n",
      " 6   rating            1795 non-null   float64\n",
      " 7   bean_type         1794 non-null   object \n",
      " 8   country           1794 non-null   object \n",
      "dtypes: float64(1), int64(2), object(6)\n",
      "memory usage: 126.3+ KB\n"
     ]
    }
   ],
   "source": [
    "dataset.info()"
   ]
  },
  {
   "attachments": {},
   "cell_type": "markdown",
   "metadata": {},
   "source": [
    "`Clean Data`"
   ]
  },
  {
   "attachments": {},
   "cell_type": "markdown",
   "metadata": {},
   "source": [
    "Here we can see that there aren't many null values in out dataset.\n",
    "But in this sample we can see that there are a lot of blanks in the `Bean Type` column."
   ]
  },
  {
   "cell_type": "code",
   "execution_count": 52,
   "metadata": {},
   "outputs": [
    {
     "data": {
      "text/plain": [
       "                            887\n",
       "Trinitario                  419\n",
       "Criollo                     153\n",
       "Forastero                    87\n",
       "Forastero (Nacional)         52\n",
       "Blend                        41\n",
       "Criollo, Trinitario          39\n",
       "Forastero (Arriba)           37\n",
       "Criollo (Porcelana)          10\n",
       "Trinitario, Criollo           9\n",
       "Forastero (Parazinho)         8\n",
       "Forastero (Arriba) ASS        6\n",
       "Nacional (Arriba)             3\n",
       "Matina                        3\n",
       "EET                           3\n",
       "Beniano                       3\n",
       "Criollo (Ocumare 61)          2\n",
       "Trinitario, Forastero         2\n",
       "Trinitario (85% Criollo)      2\n",
       "Forastero (Catongo)           2\n",
       "Criollo, Forastero            2\n",
       "Amazon, ICS                   2\n",
       "Criollo (Amarru)              2\n",
       "Amazon mix                    2\n",
       "Nacional                      2\n",
       "Criollo (Ocumare)             1\n",
       "Criollo (Ocumare 67)          1\n",
       "Trinitario, TCGA              1\n",
       "Trinitario (Amelonado)        1\n",
       "Trinitario, Nacional          1\n",
       "Forastero (Amelonado)         1\n",
       "Forastero, Trinitario         1\n",
       "Forastero (Arriba) ASSS       1\n",
       "Forastero(Arriba, CCN)        1\n",
       "Criollo, +                    1\n",
       "Criollo (Wild)                1\n",
       "Trinitario (Scavina)          1\n",
       "Criollo (Ocumare 77)          1\n",
       "CCN51                         1\n",
       "Amazon                        1\n",
       "Blend-Forastero,Criollo       1\n",
       "Name: bean_type, dtype: int64"
      ]
     },
     "execution_count": 52,
     "metadata": {},
     "output_type": "execute_result"
    }
   ],
   "source": [
    "dataset['bean_type'].value_counts()"
   ]
  },
  {
   "attachments": {},
   "cell_type": "markdown",
   "metadata": {},
   "source": [
    "We have two options here:\n",
    "1. Fill all of the null values with the mode value (`Trinitario`)\n",
    "2. Drop the column"
   ]
  },
  {
   "attachments": {},
   "cell_type": "markdown",
   "metadata": {},
   "source": [
    "Method 1:"
   ]
  },
  {
   "cell_type": "code",
   "execution_count": 53,
   "metadata": {},
   "outputs": [],
   "source": [
    "dataset['bean_type'] = dataset['bean_type'].fillna('Trinitario')"
   ]
  },
  {
   "cell_type": "code",
   "execution_count": 54,
   "metadata": {},
   "outputs": [
    {
     "data": {
      "text/plain": [
       "                            887\n",
       "Trinitario                  420\n",
       "Criollo                     153\n",
       "Forastero                    87\n",
       "Forastero (Nacional)         52\n",
       "Blend                        41\n",
       "Criollo, Trinitario          39\n",
       "Forastero (Arriba)           37\n",
       "Criollo (Porcelana)          10\n",
       "Trinitario, Criollo           9\n",
       "Forastero (Parazinho)         8\n",
       "Forastero (Arriba) ASS        6\n",
       "Nacional (Arriba)             3\n",
       "Matina                        3\n",
       "EET                           3\n",
       "Beniano                       3\n",
       "Criollo (Ocumare 61)          2\n",
       "Trinitario, Forastero         2\n",
       "Trinitario (85% Criollo)      2\n",
       "Forastero (Catongo)           2\n",
       "Criollo, Forastero            2\n",
       "Amazon, ICS                   2\n",
       "Criollo (Amarru)              2\n",
       "Amazon mix                    2\n",
       "Nacional                      2\n",
       "Criollo (Ocumare)             1\n",
       "Criollo (Ocumare 67)          1\n",
       "Trinitario, TCGA              1\n",
       "Trinitario (Amelonado)        1\n",
       "Trinitario, Nacional          1\n",
       "Forastero (Amelonado)         1\n",
       "Forastero, Trinitario         1\n",
       "Forastero (Arriba) ASSS       1\n",
       "Forastero(Arriba, CCN)        1\n",
       "Criollo, +                    1\n",
       "Criollo (Wild)                1\n",
       "Trinitario (Scavina)          1\n",
       "Criollo (Ocumare 77)          1\n",
       "CCN51                         1\n",
       "Amazon                        1\n",
       "Blend-Forastero,Criollo       1\n",
       "Name: bean_type, dtype: int64"
      ]
     },
     "execution_count": 54,
     "metadata": {},
     "output_type": "execute_result"
    }
   ],
   "source": [
    "dataset['bean_type'].value_counts()"
   ]
  },
  {
   "attachments": {},
   "cell_type": "markdown",
   "metadata": {},
   "source": [
    "Fail after using method 1 so i decide to use method 2 instead"
   ]
  },
  {
   "cell_type": "code",
   "execution_count": 55,
   "metadata": {},
   "outputs": [],
   "source": [
    "dataset.drop(['bean_type'], axis=1, inplace=True)"
   ]
  },
  {
   "cell_type": "code",
   "execution_count": 56,
   "metadata": {},
   "outputs": [
    {
     "data": {
      "text/html": [
       "<div>\n",
       "<style scoped>\n",
       "    .dataframe tbody tr th:only-of-type {\n",
       "        vertical-align: middle;\n",
       "    }\n",
       "\n",
       "    .dataframe tbody tr th {\n",
       "        vertical-align: top;\n",
       "    }\n",
       "\n",
       "    .dataframe thead th {\n",
       "        text-align: right;\n",
       "    }\n",
       "</style>\n",
       "<table border=\"1\" class=\"dataframe\">\n",
       "  <thead>\n",
       "    <tr style=\"text-align: right;\">\n",
       "      <th></th>\n",
       "      <th>company</th>\n",
       "      <th>species</th>\n",
       "      <th>REF</th>\n",
       "      <th>review_year</th>\n",
       "      <th>cocoa_percentage</th>\n",
       "      <th>company_location</th>\n",
       "      <th>rating</th>\n",
       "      <th>country</th>\n",
       "    </tr>\n",
       "  </thead>\n",
       "  <tbody>\n",
       "    <tr>\n",
       "      <th>900</th>\n",
       "      <td>Ki' Xocolatl</td>\n",
       "      <td>Dark</td>\n",
       "      <td>431</td>\n",
       "      <td>2009</td>\n",
       "      <td>72%</td>\n",
       "      <td>Mexico</td>\n",
       "      <td>2.00</td>\n",
       "      <td>Mexico</td>\n",
       "    </tr>\n",
       "    <tr>\n",
       "      <th>470</th>\n",
       "      <td>Cravve</td>\n",
       "      <td>Namau Village, N. Taileva P., batch a2812</td>\n",
       "      <td>975</td>\n",
       "      <td>2012</td>\n",
       "      <td>67%</td>\n",
       "      <td>Australia</td>\n",
       "      <td>3.25</td>\n",
       "      <td>Fiji</td>\n",
       "    </tr>\n",
       "    <tr>\n",
       "      <th>857</th>\n",
       "      <td>Idilio (Felchlin)</td>\n",
       "      <td>Coopertiva Amazona</td>\n",
       "      <td>725</td>\n",
       "      <td>2011</td>\n",
       "      <td>72%</td>\n",
       "      <td>Switzerland</td>\n",
       "      <td>3.75</td>\n",
       "      <td>Venezuela</td>\n",
       "    </tr>\n",
       "    <tr>\n",
       "      <th>1482</th>\n",
       "      <td>Smooth Chocolator, The</td>\n",
       "      <td>Chimelb, Lanquin, Alta Verapaz, b-GUA001</td>\n",
       "      <td>1908</td>\n",
       "      <td>2016</td>\n",
       "      <td>70%</td>\n",
       "      <td>Australia</td>\n",
       "      <td>3.25</td>\n",
       "      <td>Guatemala</td>\n",
       "    </tr>\n",
       "    <tr>\n",
       "      <th>476</th>\n",
       "      <td>Daintree</td>\n",
       "      <td>Daintree Estates, N. Queensland</td>\n",
       "      <td>785</td>\n",
       "      <td>2011</td>\n",
       "      <td>70%</td>\n",
       "      <td>Australia</td>\n",
       "      <td>3.25</td>\n",
       "      <td>Australia</td>\n",
       "    </tr>\n",
       "    <tr>\n",
       "      <th>25</th>\n",
       "      <td>Adi</td>\n",
       "      <td>Vanua Levu</td>\n",
       "      <td>705</td>\n",
       "      <td>2011</td>\n",
       "      <td>60%</td>\n",
       "      <td>Fiji</td>\n",
       "      <td>2.75</td>\n",
       "      <td>Fiji</td>\n",
       "    </tr>\n",
       "    <tr>\n",
       "      <th>1364</th>\n",
       "      <td>Ranger</td>\n",
       "      <td>Tumbes, Batch 2</td>\n",
       "      <td>1562</td>\n",
       "      <td>2015</td>\n",
       "      <td>73%</td>\n",
       "      <td>U.S.A.</td>\n",
       "      <td>3.50</td>\n",
       "      <td>Peru</td>\n",
       "    </tr>\n",
       "    <tr>\n",
       "      <th>646</th>\n",
       "      <td>Felchlin</td>\n",
       "      <td>Madagascar, Grand Cru</td>\n",
       "      <td>48</td>\n",
       "      <td>2006</td>\n",
       "      <td>64%</td>\n",
       "      <td>Switzerland</td>\n",
       "      <td>3.00</td>\n",
       "      <td>Madagascar</td>\n",
       "    </tr>\n",
       "    <tr>\n",
       "      <th>468</th>\n",
       "      <td>Cravve</td>\n",
       "      <td>Tanzania, batch a1</td>\n",
       "      <td>971</td>\n",
       "      <td>2012</td>\n",
       "      <td>75%</td>\n",
       "      <td>Australia</td>\n",
       "      <td>3.25</td>\n",
       "      <td>Tanzania</td>\n",
       "    </tr>\n",
       "    <tr>\n",
       "      <th>730</th>\n",
       "      <td>Georgia Ramon</td>\n",
       "      <td>Conacado Coop</td>\n",
       "      <td>1646</td>\n",
       "      <td>2015</td>\n",
       "      <td>70%</td>\n",
       "      <td>Germany</td>\n",
       "      <td>3.50</td>\n",
       "      <td>Domincan Republic</td>\n",
       "    </tr>\n",
       "  </tbody>\n",
       "</table>\n",
       "</div>"
      ],
      "text/plain": [
       "                     company                                    species   REF  \\\n",
       "900             Ki' Xocolatl                                       Dark   431   \n",
       "470                   Cravve  Namau Village, N. Taileva P., batch a2812   975   \n",
       "857        Idilio (Felchlin)                         Coopertiva Amazona   725   \n",
       "1482  Smooth Chocolator, The   Chimelb, Lanquin, Alta Verapaz, b-GUA001  1908   \n",
       "476                 Daintree            Daintree Estates, N. Queensland   785   \n",
       "25                       Adi                                 Vanua Levu   705   \n",
       "1364                  Ranger                            Tumbes, Batch 2  1562   \n",
       "646                 Felchlin                      Madagascar, Grand Cru    48   \n",
       "468                   Cravve                         Tanzania, batch a1   971   \n",
       "730            Georgia Ramon                              Conacado Coop  1646   \n",
       "\n",
       "      review_year cocoa_percentage company_location  rating            country  \n",
       "900          2009              72%           Mexico    2.00             Mexico  \n",
       "470          2012              67%        Australia    3.25               Fiji  \n",
       "857          2011              72%      Switzerland    3.75          Venezuela  \n",
       "1482         2016              70%        Australia    3.25          Guatemala  \n",
       "476          2011              70%        Australia    3.25          Australia  \n",
       "25           2011              60%             Fiji    2.75               Fiji  \n",
       "1364         2015              73%           U.S.A.    3.50               Peru  \n",
       "646          2006              64%      Switzerland    3.00         Madagascar  \n",
       "468          2012              75%        Australia    3.25           Tanzania  \n",
       "730          2015              70%          Germany    3.50  Domincan Republic  "
      ]
     },
     "execution_count": 56,
     "metadata": {},
     "output_type": "execute_result"
    }
   ],
   "source": [
    "dataset.sample(10)"
   ]
  },
  {
   "attachments": {},
   "cell_type": "markdown",
   "metadata": {},
   "source": [
    "Same with `company` column and also\n",
    "drop the `REF` column as it is of no use to the project"
   ]
  },
  {
   "cell_type": "code",
   "execution_count": 57,
   "metadata": {},
   "outputs": [
    {
     "data": {
      "text/html": [
       "<div>\n",
       "<style scoped>\n",
       "    .dataframe tbody tr th:only-of-type {\n",
       "        vertical-align: middle;\n",
       "    }\n",
       "\n",
       "    .dataframe tbody tr th {\n",
       "        vertical-align: top;\n",
       "    }\n",
       "\n",
       "    .dataframe thead th {\n",
       "        text-align: right;\n",
       "    }\n",
       "</style>\n",
       "<table border=\"1\" class=\"dataframe\">\n",
       "  <thead>\n",
       "    <tr style=\"text-align: right;\">\n",
       "      <th></th>\n",
       "      <th>species</th>\n",
       "      <th>review_year</th>\n",
       "      <th>cocoa_percentage</th>\n",
       "      <th>company_location</th>\n",
       "      <th>rating</th>\n",
       "      <th>country</th>\n",
       "    </tr>\n",
       "  </thead>\n",
       "  <tbody>\n",
       "    <tr>\n",
       "      <th>899</th>\n",
       "      <td>La Red, Project Reserva, Guaconejo</td>\n",
       "      <td>2013</td>\n",
       "      <td>70%</td>\n",
       "      <td>U.S.A.</td>\n",
       "      <td>3.75</td>\n",
       "      <td>Dominican Republic</td>\n",
       "    </tr>\n",
       "    <tr>\n",
       "      <th>227</th>\n",
       "      <td>Cuba</td>\n",
       "      <td>2011</td>\n",
       "      <td>75%</td>\n",
       "      <td>France</td>\n",
       "      <td>3.50</td>\n",
       "      <td>Cuba</td>\n",
       "    </tr>\n",
       "    <tr>\n",
       "      <th>276</th>\n",
       "      <td>Belize</td>\n",
       "      <td>2014</td>\n",
       "      <td>72%</td>\n",
       "      <td>U.S.A.</td>\n",
       "      <td>3.25</td>\n",
       "      <td>Belize</td>\n",
       "    </tr>\n",
       "    <tr>\n",
       "      <th>1460</th>\n",
       "      <td>Trintade, Sao Tome</td>\n",
       "      <td>2011</td>\n",
       "      <td>65%</td>\n",
       "      <td>Italy</td>\n",
       "      <td>3.25</td>\n",
       "      <td>Sao Tome</td>\n",
       "    </tr>\n",
       "    <tr>\n",
       "      <th>1688</th>\n",
       "      <td>Tainori</td>\n",
       "      <td>2009</td>\n",
       "      <td>64%</td>\n",
       "      <td>France</td>\n",
       "      <td>3.75</td>\n",
       "      <td>Dominican Republic</td>\n",
       "    </tr>\n",
       "    <tr>\n",
       "      <th>218</th>\n",
       "      <td>Zorzal Reserva</td>\n",
       "      <td>2016</td>\n",
       "      <td>75%</td>\n",
       "      <td>U.S.A.</td>\n",
       "      <td>3.00</td>\n",
       "      <td>Dominican Republic</td>\n",
       "    </tr>\n",
       "    <tr>\n",
       "      <th>1079</th>\n",
       "      <td>Papua New Guinea</td>\n",
       "      <td>2011</td>\n",
       "      <td>71%</td>\n",
       "      <td>U.S.A.</td>\n",
       "      <td>2.75</td>\n",
       "      <td>Papua New Guinea</td>\n",
       "    </tr>\n",
       "    <tr>\n",
       "      <th>634</th>\n",
       "      <td>Red Vanilla</td>\n",
       "      <td>2011</td>\n",
       "      <td>62%</td>\n",
       "      <td>U.S.A.</td>\n",
       "      <td>2.75</td>\n",
       "      <td></td>\n",
       "    </tr>\n",
       "    <tr>\n",
       "      <th>1659</th>\n",
       "      <td>Ghana, Panama, Ecuador</td>\n",
       "      <td>2007</td>\n",
       "      <td>75%</td>\n",
       "      <td>U.S.A.</td>\n",
       "      <td>3.00</td>\n",
       "      <td>Ghana, Panama, Ecuador</td>\n",
       "    </tr>\n",
       "    <tr>\n",
       "      <th>1272</th>\n",
       "      <td>Signature Blend</td>\n",
       "      <td>2011</td>\n",
       "      <td>70%</td>\n",
       "      <td>U.S.A.</td>\n",
       "      <td>3.75</td>\n",
       "      <td></td>\n",
       "    </tr>\n",
       "  </tbody>\n",
       "</table>\n",
       "</div>"
      ],
      "text/plain": [
       "                                 species  review_year cocoa_percentage  \\\n",
       "899   La Red, Project Reserva, Guaconejo         2013              70%   \n",
       "227                                 Cuba         2011              75%   \n",
       "276                               Belize         2014              72%   \n",
       "1460                  Trintade, Sao Tome         2011              65%   \n",
       "1688                             Tainori         2009              64%   \n",
       "218                       Zorzal Reserva         2016              75%   \n",
       "1079                    Papua New Guinea         2011              71%   \n",
       "634                          Red Vanilla         2011              62%   \n",
       "1659              Ghana, Panama, Ecuador         2007              75%   \n",
       "1272                     Signature Blend         2011              70%   \n",
       "\n",
       "     company_location  rating                 country  \n",
       "899            U.S.A.    3.75      Dominican Republic  \n",
       "227            France    3.50                    Cuba  \n",
       "276            U.S.A.    3.25                  Belize  \n",
       "1460            Italy    3.25                Sao Tome  \n",
       "1688           France    3.75      Dominican Republic  \n",
       "218            U.S.A.    3.00      Dominican Republic  \n",
       "1079           U.S.A.    2.75        Papua New Guinea  \n",
       "634            U.S.A.    2.75                          \n",
       "1659           U.S.A.    3.00  Ghana, Panama, Ecuador  \n",
       "1272           U.S.A.    3.75                          "
      ]
     },
     "execution_count": 57,
     "metadata": {},
     "output_type": "execute_result"
    }
   ],
   "source": [
    "dataset.drop(['REF'], axis=1, inplace=True)\n",
    "dataset.drop(['company'], axis=1, inplace=True)\n",
    "dataset.sample(10)"
   ]
  },
  {
   "attachments": {},
   "cell_type": "markdown",
   "metadata": {},
   "source": [
    "Change percent into a numeric value."
   ]
  },
  {
   "cell_type": "code",
   "execution_count": 58,
   "metadata": {},
   "outputs": [
    {
     "data": {
      "text/html": [
       "<div>\n",
       "<style scoped>\n",
       "    .dataframe tbody tr th:only-of-type {\n",
       "        vertical-align: middle;\n",
       "    }\n",
       "\n",
       "    .dataframe tbody tr th {\n",
       "        vertical-align: top;\n",
       "    }\n",
       "\n",
       "    .dataframe thead th {\n",
       "        text-align: right;\n",
       "    }\n",
       "</style>\n",
       "<table border=\"1\" class=\"dataframe\">\n",
       "  <thead>\n",
       "    <tr style=\"text-align: right;\">\n",
       "      <th></th>\n",
       "      <th>species</th>\n",
       "      <th>review_year</th>\n",
       "      <th>cocoa_percentage</th>\n",
       "      <th>company_location</th>\n",
       "      <th>rating</th>\n",
       "      <th>country</th>\n",
       "    </tr>\n",
       "  </thead>\n",
       "  <tbody>\n",
       "    <tr>\n",
       "      <th>302</th>\n",
       "      <td>Arauca</td>\n",
       "      <td>2014</td>\n",
       "      <td>70.0</td>\n",
       "      <td>Colombia</td>\n",
       "      <td>3.25</td>\n",
       "      <td>Colombia</td>\n",
       "    </tr>\n",
       "    <tr>\n",
       "      <th>822</th>\n",
       "      <td>Hispaniola</td>\n",
       "      <td>2009</td>\n",
       "      <td>70.0</td>\n",
       "      <td>Israel</td>\n",
       "      <td>2.75</td>\n",
       "      <td>Dominican Republic</td>\n",
       "    </tr>\n",
       "    <tr>\n",
       "      <th>1104</th>\n",
       "      <td>Honduras</td>\n",
       "      <td>2014</td>\n",
       "      <td>80.0</td>\n",
       "      <td>Honduras</td>\n",
       "      <td>3.25</td>\n",
       "      <td>Honduras</td>\n",
       "    </tr>\n",
       "    <tr>\n",
       "      <th>1315</th>\n",
       "      <td>Porcelana, S. of Lake Maracaibo</td>\n",
       "      <td>2011</td>\n",
       "      <td>75.0</td>\n",
       "      <td>France</td>\n",
       "      <td>3.25</td>\n",
       "      <td>Venezuela</td>\n",
       "    </tr>\n",
       "    <tr>\n",
       "      <th>1125</th>\n",
       "      <td>Kokoa Kamili</td>\n",
       "      <td>2015</td>\n",
       "      <td>75.0</td>\n",
       "      <td>U.S.A.</td>\n",
       "      <td>3.25</td>\n",
       "      <td>Tanzania</td>\n",
       "    </tr>\n",
       "    <tr>\n",
       "      <th>1472</th>\n",
       "      <td>Somia Plantation, 2012</td>\n",
       "      <td>2014</td>\n",
       "      <td>73.0</td>\n",
       "      <td>Canada</td>\n",
       "      <td>3.75</td>\n",
       "      <td>Madagascar</td>\n",
       "    </tr>\n",
       "    <tr>\n",
       "      <th>455</th>\n",
       "      <td>Trinidad</td>\n",
       "      <td>2010</td>\n",
       "      <td>72.0</td>\n",
       "      <td>Germany</td>\n",
       "      <td>3.00</td>\n",
       "      <td>Trinidad</td>\n",
       "    </tr>\n",
       "    <tr>\n",
       "      <th>1052</th>\n",
       "      <td>Tan Phu Dong, Treasure Island</td>\n",
       "      <td>2013</td>\n",
       "      <td>75.0</td>\n",
       "      <td>Vietnam</td>\n",
       "      <td>3.50</td>\n",
       "      <td>Vietnam</td>\n",
       "    </tr>\n",
       "    <tr>\n",
       "      <th>1065</th>\n",
       "      <td>Alto Beni</td>\n",
       "      <td>2016</td>\n",
       "      <td>76.0</td>\n",
       "      <td>Austria</td>\n",
       "      <td>2.75</td>\n",
       "      <td>Bolivia</td>\n",
       "    </tr>\n",
       "    <tr>\n",
       "      <th>219</th>\n",
       "      <td>Guatemala</td>\n",
       "      <td>2012</td>\n",
       "      <td>70.0</td>\n",
       "      <td>U.S.A.</td>\n",
       "      <td>3.50</td>\n",
       "      <td>Guatemala</td>\n",
       "    </tr>\n",
       "  </tbody>\n",
       "</table>\n",
       "</div>"
      ],
      "text/plain": [
       "                              species  review_year  cocoa_percentage  \\\n",
       "302                            Arauca         2014              70.0   \n",
       "822                        Hispaniola         2009              70.0   \n",
       "1104                         Honduras         2014              80.0   \n",
       "1315  Porcelana, S. of Lake Maracaibo         2011              75.0   \n",
       "1125                     Kokoa Kamili         2015              75.0   \n",
       "1472           Somia Plantation, 2012         2014              73.0   \n",
       "455                          Trinidad         2010              72.0   \n",
       "1052    Tan Phu Dong, Treasure Island         2013              75.0   \n",
       "1065                        Alto Beni         2016              76.0   \n",
       "219                         Guatemala         2012              70.0   \n",
       "\n",
       "     company_location  rating             country  \n",
       "302          Colombia    3.25            Colombia  \n",
       "822            Israel    2.75  Dominican Republic  \n",
       "1104         Honduras    3.25            Honduras  \n",
       "1315           France    3.25           Venezuela  \n",
       "1125           U.S.A.    3.25            Tanzania  \n",
       "1472           Canada    3.75          Madagascar  \n",
       "455           Germany    3.00            Trinidad  \n",
       "1052          Vietnam    3.50             Vietnam  \n",
       "1065          Austria    2.75             Bolivia  \n",
       "219            U.S.A.    3.50           Guatemala  "
      ]
     },
     "execution_count": 58,
     "metadata": {},
     "output_type": "execute_result"
    }
   ],
   "source": [
    "dataset['cocoa_percentage']= dataset['cocoa_percentage'].str.replace('%','').astype(float)\n",
    "dataset.sample(10)"
   ]
  },
  {
   "attachments": {},
   "cell_type": "markdown",
   "metadata": {},
   "source": [
    "We can classify the chocolates into `Dark`, `Normal` and `White` chocolates based on column `cocoa_percentage`."
   ]
  },
  {
   "cell_type": "code",
   "execution_count": 59,
   "metadata": {},
   "outputs": [
    {
     "data": {
      "text/plain": [
       "dark      1467\n",
       "normal     328\n",
       "Name: cocoa_type, dtype: int64"
      ]
     },
     "execution_count": 59,
     "metadata": {},
     "output_type": "execute_result"
    }
   ],
   "source": [
    "dataset['cocoa_type'] = dataset['cocoa_percentage'].apply(lambda x: 'dark' if x>=70 else 'normal' if x>0 else 'white')\n",
    "dataset['cocoa_type'].value_counts()"
   ]
  },
  {
   "cell_type": "code",
   "execution_count": 60,
   "metadata": {},
   "outputs": [
    {
     "data": {
      "text/html": [
       "<div>\n",
       "<style scoped>\n",
       "    .dataframe tbody tr th:only-of-type {\n",
       "        vertical-align: middle;\n",
       "    }\n",
       "\n",
       "    .dataframe tbody tr th {\n",
       "        vertical-align: top;\n",
       "    }\n",
       "\n",
       "    .dataframe thead th {\n",
       "        text-align: right;\n",
       "    }\n",
       "</style>\n",
       "<table border=\"1\" class=\"dataframe\">\n",
       "  <thead>\n",
       "    <tr style=\"text-align: right;\">\n",
       "      <th></th>\n",
       "      <th>species</th>\n",
       "      <th>review_year</th>\n",
       "      <th>cocoa_percentage</th>\n",
       "      <th>company_location</th>\n",
       "      <th>rating</th>\n",
       "      <th>country</th>\n",
       "      <th>cocoa_type</th>\n",
       "    </tr>\n",
       "  </thead>\n",
       "  <tbody>\n",
       "    <tr>\n",
       "      <th>1257</th>\n",
       "      <td>Kokoa Kamili</td>\n",
       "      <td>2015</td>\n",
       "      <td>72.0</td>\n",
       "      <td>Canada</td>\n",
       "      <td>3.50</td>\n",
       "      <td>Tanzania</td>\n",
       "      <td>dark</td>\n",
       "    </tr>\n",
       "    <tr>\n",
       "      <th>1576</th>\n",
       "      <td>Hispaniola</td>\n",
       "      <td>2015</td>\n",
       "      <td>70.0</td>\n",
       "      <td>U.S.A.</td>\n",
       "      <td>3.00</td>\n",
       "      <td>Domincan Republic</td>\n",
       "      <td>dark</td>\n",
       "    </tr>\n",
       "    <tr>\n",
       "      <th>549</th>\n",
       "      <td>Panama, Raven</td>\n",
       "      <td>2014</td>\n",
       "      <td>72.0</td>\n",
       "      <td>U.K.</td>\n",
       "      <td>3.25</td>\n",
       "      <td>Panama</td>\n",
       "      <td>dark</td>\n",
       "    </tr>\n",
       "    <tr>\n",
       "      <th>1206</th>\n",
       "      <td>PNG, Devotion</td>\n",
       "      <td>2014</td>\n",
       "      <td>66.0</td>\n",
       "      <td>New Zealand</td>\n",
       "      <td>2.75</td>\n",
       "      <td>Papua New Guinea</td>\n",
       "      <td>normal</td>\n",
       "    </tr>\n",
       "    <tr>\n",
       "      <th>89</th>\n",
       "      <td>Monte Alegre, 3 diff. plantations</td>\n",
       "      <td>2010</td>\n",
       "      <td>85.0</td>\n",
       "      <td>Brazil</td>\n",
       "      <td>2.75</td>\n",
       "      <td>Brazil</td>\n",
       "      <td>dark</td>\n",
       "    </tr>\n",
       "  </tbody>\n",
       "</table>\n",
       "</div>"
      ],
      "text/plain": [
       "                                species  review_year  cocoa_percentage  \\\n",
       "1257                       Kokoa Kamili         2015              72.0   \n",
       "1576                         Hispaniola         2015              70.0   \n",
       "549                       Panama, Raven         2014              72.0   \n",
       "1206                      PNG, Devotion         2014              66.0   \n",
       "89    Monte Alegre, 3 diff. plantations         2010              85.0   \n",
       "\n",
       "     company_location  rating            country cocoa_type  \n",
       "1257           Canada    3.50           Tanzania       dark  \n",
       "1576           U.S.A.    3.00  Domincan Republic       dark  \n",
       "549              U.K.    3.25             Panama       dark  \n",
       "1206      New Zealand    2.75   Papua New Guinea     normal  \n",
       "89             Brazil    2.75             Brazil       dark  "
      ]
     },
     "execution_count": 60,
     "metadata": {},
     "output_type": "execute_result"
    }
   ],
   "source": [
    "dataset.sample(5)"
   ]
  },
  {
   "attachments": {},
   "cell_type": "markdown",
   "metadata": {},
   "source": [
    "`EDA`"
   ]
  },
  {
   "attachments": {},
   "cell_type": "markdown",
   "metadata": {},
   "source": [
    "Types of chocolates reviewed"
   ]
  },
  {
   "cell_type": "code",
   "execution_count": 61,
   "metadata": {},
   "outputs": [
    {
     "data": {
      "text/plain": [
       "<Axes: xlabel='cocoa_type', ylabel='count'>"
      ]
     },
     "execution_count": 61,
     "metadata": {},
     "output_type": "execute_result"
    },
    {
     "data": {
      "image/png": "[encoded data removed]",
      "text/plain": [
       "<Figure size 640x480 with 1 Axes>"
      ]
     },
     "metadata": {},
     "output_type": "display_data"
    }
   ],
   "source": [
    "sns.countplot(x='cocoa_type', data=dataset)\n"
   ]
  },
  {
   "cell_type": "code",
   "execution_count": 62,
   "metadata": {},
   "outputs": [
    {
     "data": {
      "text/plain": [
       "<Axes: xlabel='cocoa_percentage', ylabel='rating'>"
      ]
     },
     "execution_count": 62,
     "metadata": {},
     "output_type": "execute_result"
    },
    {
     "data": {
      "image/png": "[encoded data removed]",
      "text/plain": [
       "<Figure size 1500x800 with 1 Axes>"
      ]
     },
     "metadata": {},
     "output_type": "display_data"
    }
   ],
   "source": [
    "plt.figure(figsize=(15,8))\n",
    "sns.lineplot(x='cocoa_percentage', y='rating', data=dataset)"
   ]
  },
  {
   "attachments": {},
   "cell_type": "markdown",
   "metadata": {},
   "source": [
    "According to this plot, we can see majority of the people do not like the extreme types of chocolate (i.e. too dark or too light). The average is around 60%-70%. "
   ]
  },
  {
   "cell_type": "code",
   "execution_count": 63,
   "metadata": {},
   "outputs": [
    {
     "data": {
      "image/png": "[encoded data removed]",
      "text/plain": [
       "<Figure size 598.75x500 with 1 Axes>"
      ]
     },
     "metadata": {},
     "output_type": "display_data"
    }
   ],
   "source": [
    "sns.relplot(x=\"review_year\", y=\"rating\", hue=\"cocoa_type\", kind=\"line\", data=dataset);"
   ]
  },
  {
   "attachments": {},
   "cell_type": "markdown",
   "metadata": {},
   "source": [
    "Here we can see, the liking for dark chocolates have increased over the years whereas for the other, it's the same."
   ]
  },
  {
   "cell_type": "code",
   "execution_count": 64,
   "metadata": {},
   "outputs": [
    {
     "data": {
      "image/png": "[encoded data removed]",
      "text/plain": [
       "<Figure size 638.236x500 with 1 Axes>"
      ]
     },
     "metadata": {},
     "output_type": "display_data"
    }
   ],
   "source": [
    "sns.relplot(x=\"review_year\", y=\"rating\", size=\"cocoa_percentage\", sizes=(15, 200), data=dataset);"
   ]
  },
  {
   "attachments": {},
   "cell_type": "markdown",
   "metadata": {},
   "source": [
    "The heavier dots are the bottom of the rating chart for almost all of the years"
   ]
  },
  {
   "cell_type": "code",
   "execution_count": 65,
   "metadata": {},
   "outputs": [
    {
     "data": {
      "image/png": "[encoded data removed]",
      "text/plain": [
       "<Figure size 2000x500 with 1 Axes>"
      ]
     },
     "metadata": {},
     "output_type": "display_data"
    }
   ],
   "source": [
    "rating_counts = dataset.rating.value_counts()\n",
    "plt.figure(figsize=(20,5))\n",
    "sns.barplot(x=rating_counts.index, y=rating_counts.values, palette=\"Oranges\")\n",
    "plt.xlabel(\"Rating value\")\n",
    "plt.ylabel(\"Counts\")\n",
    "plt.title(\"Most Common Rating Counts\")\n",
    "plt.show()"
   ]
  },
  {
   "attachments": {},
   "cell_type": "markdown",
   "metadata": {},
   "source": [
    "Thus, we see that Rating value **3.5** is the most common, conveying that most of the chocolates lie in the range between **Satisfactory and Premium**."
   ]
  },
  {
   "cell_type": "code",
   "execution_count": 66,
   "metadata": {},
   "outputs": [
    {
     "data": {
      "application/vnd.plotly.v1+json": {
       "config": {
        "plotlyServerURL": "https://plot.ly"
       },
       "data": [
        {
         "domain": {
          "x": [
           0,
           1
          ],
          "y": [
           0,
           1
          ]
         },
         "hovertemplate": "country=%{label}<extra></extra>",
         "labels": [
          "Sao Tome",
          "Togo",
          "Togo",
          "Togo",
          "Peru",
          "Venezuela",
          "Cuba",
          "Venezuela",
          "Venezuela",
          "Peru",
          "Panama",
          "Madagascar",
          "Brazil",
          "Ecuador",
          "Colombia",
          "Burma",
          "Papua New Guinea",
          "Venezuela",
          "Peru",
          "Peru",
          "Peru",
          "Bolivia",
          "Peru",
          "Peru",
          "Peru",
          "Fiji",
          "Fiji",
          "Fiji",
          "Fiji",
          "Ecuador",
          "Ecuador",
          "Mexico",
          "Indonesia",
          "Madagascar",
          "Brazil",
          "Trinidad",
          "Vietnam",
          "Madagascar",
          "Venezuela",
          "Peru",
          "Ecuador",
          "Nicaragua",
          "Vietnam",
          "Tanzania",
          "Nicaragua",
          "Peru",
          "Bolivia",
          "Peru",
          "Ecuador",
          "Venezuela",
          "Dominican Republic",
          "Bolivia",
          "Bolivia",
          "Peru",
          "Papua New Guinea",
          "Dominican Republic",
          "Ecuador",
          "Venezuela",
          "Venezuela",
          "Indonesia",
          "Madagascar",
          "Venezuela",
          "Venezuela",
          "Ghana",
          "Ecuador",
          "Ecuador",
          "Ghana",
          "Peru",
          "Peru",
          "Belize",
          "Madagascar",
          "Dominican Republic",
          "Papua New Guinea",
          "Venezuela",
          "Peru",
          "Peru",
          "Venezuela",
          " ",
          "Venezuela",
          "Ecuador",
          "Jamaica",
          "Grenada",
          "Venezuela",
          "Madagascar",
          "Trinidad",
          " ",
          " ",
          " ",
          "Brazil",
          "Brazil",
          "Brazil",
          "Brazil",
          "Brazil",
          "Dominican Republic",
          "Bolivia",
          "Madagascar",
          "Mexico",
          "Ecuador",
          "Venezuela",
          "Trinidad"
         ],
         "legendgroup": "",
         "name": "",
         "showlegend": true,
         "type": "pie"
        }
       ],
       "layout": {
        "legend": {
         "tracegroupgap": 0
        },
        "template": {
         "data": {
          "bar": [
           {
            "error_x": {
             "color": "#2a3f5f"
            },
            "error_y": {
             "color": "#2a3f5f"
            },
            "marker": {
             "line": {
              "color": "#E5ECF6",
              "width": 0.5
             },
             "pattern": {
              "fillmode": "overlay",
              "size": 10,
              "solidity": 0.2
             }
            },
            "type": "bar"
           }
          ],
          "barpolar": [
           {
            "marker": {
             "line": {
              "color": "#E5ECF6",
              "width": 0.5
             },
             "pattern": {
              "fillmode": "overlay",
              "size": 10,
              "solidity": 0.2
             }
            },
            "type": "barpolar"
           }
          ],
          "carpet": [
           {
            "aaxis": {
             "endlinecolor": "#2a3f5f",
             "gridcolor": "white",
             "linecolor": "white",
             "minorgridcolor": "white",
             "startlinecolor": "#2a3f5f"
            },
            "baxis": {
             "endlinecolor": "#2a3f5f",
             "gridcolor": "white",
             "linecolor": "white",
             "minorgridcolor": "white",
             "startlinecolor": "#2a3f5f"
            },
            "type": "carpet"
           }
          ],
          "choropleth": [
           {
            "colorbar": {
             "outlinewidth": 0,
             "ticks": ""
            },
            "type": "choropleth"
           }
          ],
          "contour": [
           {
            "colorbar": {
             "outlinewidth": 0,
             "ticks": ""
            },
            "colorscale": [
             [
              0,
              "#0d0887"
             ],
             [
              0.1111111111111111,
              "#46039f"
             ],
             [
              0.2222222222222222,
              "#7201a8"
             ],
             [
              0.3333333333333333,
              "#9c179e"
             ],
             [
              0.4444444444444444,
              "#bd3786"
             ],
             [
              0.5555555555555556,
              "#d8576b"
             ],
             [
              0.6666666666666666,
              "#ed7953"
             ],
             [
              0.7777777777777778,
              "#fb9f3a"
             ],
             [
              0.8888888888888888,
              "#fdca26"
             ],
             [
              1,
              "#f0f921"
             ]
            ],
            "type": "contour"
           }
          ],
          "contourcarpet": [
           {
            "colorbar": {
             "outlinewidth": 0,
             "ticks": ""
            },
            "type": "contourcarpet"
           }
          ],
          "heatmap": [
           {
            "colorbar": {
             "outlinewidth": 0,
             "ticks": ""
            },
            "colorscale": [
             [
              0,
              "#0d0887"
             ],
             [
              0.1111111111111111,
              "#46039f"
             ],
             [
              0.2222222222222222,
              "#7201a8"
             ],
             [
              0.3333333333333333,
              "#9c179e"
             ],
             [
              0.4444444444444444,
              "#bd3786"
             ],
             [
              0.5555555555555556,
              "#d8576b"
             ],
             [
              0.6666666666666666,
              "#ed7953"
             ],
             [
              0.7777777777777778,
              "#fb9f3a"
             ],
             [
              0.8888888888888888,
              "#fdca26"
             ],
             [
              1,
              "#f0f921"
             ]
            ],
            "type": "heatmap"
           }
          ],
          "heatmapgl": [
           {
            "colorbar": {
             "outlinewidth": 0,
             "ticks": ""
            },
            "colorscale": [
             [
              0,
              "#0d0887"
             ],
             [
              0.1111111111111111,
              "#46039f"
             ],
             [
              0.2222222222222222,
              "#7201a8"
             ],
             [
              0.3333333333333333,
              "#9c179e"
             ],
             [
              0.4444444444444444,
              "#bd3786"
             ],
             [
              0.5555555555555556,
              "#d8576b"
             ],
             [
              0.6666666666666666,
              "#ed7953"
             ],
             [
              0.7777777777777778,
              "#fb9f3a"
             ],
             [
              0.8888888888888888,
              "#fdca26"
             ],
             [
              1,
              "#f0f921"
             ]
            ],
            "type": "heatmapgl"
           }
          ],
          "histogram": [
           {
            "marker": {
             "pattern": {
              "fillmode": "overlay",
              "size": 10,
              "solidity": 0.2
             }
            },
            "type": "histogram"
           }
          ],
          "histogram2d": [
           {
            "colorbar": {
             "outlinewidth": 0,
             "ticks": ""
            },
            "colorscale": [
             [
              0,
              "#0d0887"
             ],
             [
              0.1111111111111111,
              "#46039f"
             ],
             [
              0.2222222222222222,
              "#7201a8"
             ],
             [
              0.3333333333333333,
              "#9c179e"
             ],
             [
              0.4444444444444444,
              "#bd3786"
             ],
             [
              0.5555555555555556,
              "#d8576b"
             ],
             [
              0.6666666666666666,
              "#ed7953"
             ],
             [
              0.7777777777777778,
              "#fb9f3a"
             ],
             [
              0.8888888888888888,
              "#fdca26"
             ],
             [
              1,
              "#f0f921"
             ]
            ],
            "type": "histogram2d"
           }
          ],
          "histogram2dcontour": [
           {
            "colorbar": {
             "outlinewidth": 0,
             "ticks": ""
            },
            "colorscale": [
             [
              0,
              "#0d0887"
             ],
             [
              0.1111111111111111,
              "#46039f"
             ],
             [
              0.2222222222222222,
              "#7201a8"
             ],
             [
              0.3333333333333333,
              "#9c179e"
             ],
             [
              0.4444444444444444,
              "#bd3786"
             ],
             [
              0.5555555555555556,
              "#d8576b"
             ],
             [
              0.6666666666666666,
              "#ed7953"
             ],
             [
              0.7777777777777778,
              "#fb9f3a"
             ],
             [
              0.8888888888888888,
              "#fdca26"
             ],
             [
              1,
              "#f0f921"
             ]
            ],
            "type": "histogram2dcontour"
           }
          ],
          "mesh3d": [
           {
            "colorbar": {
             "outlinewidth": 0,
             "ticks": ""
            },
            "type": "mesh3d"
           }
          ],
          "parcoords": [
           {
            "line": {
             "colorbar": {
              "outlinewidth": 0,
              "ticks": ""
             }
            },
            "type": "parcoords"
           }
          ],
          "pie": [
           {
            "automargin": true,
            "type": "pie"
           }
          ],
          "scatter": [
           {
            "fillpattern": {
             "fillmode": "overlay",
             "size": 10,
             "solidity": 0.2
            },
            "type": "scatter"
           }
          ],
          "scatter3d": [
           {
            "line": {
             "colorbar": {
              "outlinewidth": 0,
              "ticks": ""
             }
            },
            "marker": {
             "colorbar": {
              "outlinewidth": 0,
              "ticks": ""
             }
            },
            "type": "scatter3d"
           }
          ],
          "scattercarpet": [
           {
            "marker": {
             "colorbar": {
              "outlinewidth": 0,
              "ticks": ""
             }
            },
            "type": "scattercarpet"
           }
          ],
          "scattergeo": [
           {
            "marker": {
             "colorbar": {
              "outlinewidth": 0,
              "ticks": ""
             }
            },
            "type": "scattergeo"
           }
          ],
          "scattergl": [
           {
            "marker": {
             "colorbar": {
              "outlinewidth": 0,
              "ticks": ""
             }
            },
            "type": "scattergl"
           }
          ],
          "scattermapbox": [
           {
            "marker": {
             "colorbar": {
              "outlinewidth": 0,
              "ticks": ""
             }
            },
            "type": "scattermapbox"
           }
          ],
          "scatterpolar": [
           {
            "marker": {
             "colorbar": {
              "outlinewidth": 0,
              "ticks": ""
             }
            },
            "type": "scatterpolar"
           }
          ],
          "scatterpolargl": [
           {
            "marker": {
             "colorbar": {
              "outlinewidth": 0,
              "ticks": ""
             }
            },
            "type": "scatterpolargl"
           }
          ],
          "scatterternary": [
           {
            "marker": {
             "colorbar": {
              "outlinewidth": 0,
              "ticks": ""
             }
            },
            "type": "scatterternary"
           }
          ],
          "surface": [
           {
            "colorbar": {
             "outlinewidth": 0,
             "ticks": ""
            },
            "colorscale": [
             [
              0,
              "#0d0887"
             ],
             [
              0.1111111111111111,
              "#46039f"
             ],
             [
              0.2222222222222222,
              "#7201a8"
             ],
             [
              0.3333333333333333,
              "#9c179e"
             ],
             [
              0.4444444444444444,
              "#bd3786"
             ],
             [
              0.5555555555555556,
              "#d8576b"
             ],
             [
              0.6666666666666666,
              "#ed7953"
             ],
             [
              0.7777777777777778,
              "#fb9f3a"
             ],
             [
              0.8888888888888888,
              "#fdca26"
             ],
             [
              1,
              "#f0f921"
             ]
            ],
            "type": "surface"
           }
          ],
          "table": [
           {
            "cells": {
             "fill": {
              "color": "#EBF0F8"
             },
             "line": {
              "color": "white"
             }
            },
            "header": {
             "fill": {
              "color": "#C8D4E3"
             },
             "line": {
              "color": "white"
             }
            },
            "type": "table"
           }
          ]
         },
         "layout": {
          "annotationdefaults": {
           "arrowcolor": "#2a3f5f",
           "arrowhead": 0,
           "arrowwidth": 1
          },
          "autotypenumbers": "strict",
          "coloraxis": {
           "colorbar": {
            "outlinewidth": 0,
            "ticks": ""
           }
          },
          "colorscale": {
           "diverging": [
            [
             0,
             "#8e0152"
            ],
            [
             0.1,
             "#c51b7d"
            ],
            [
             0.2,
             "#de77ae"
            ],
            [
             0.3,
             "#f1b6da"
            ],
            [
             0.4,
             "#fde0ef"
            ],
            [
             0.5,
             "#f7f7f7"
            ],
            [
             0.6,
             "#e6f5d0"
            ],
            [
             0.7,
             "#b8e186"
            ],
            [
             0.8,
             "#7fbc41"
            ],
            [
             0.9,
             "#4d9221"
            ],
            [
             1,
             "#276419"
            ]
           ],
           "sequential": [
            [
             0,
             "#0d0887"
            ],
            [
             0.1111111111111111,
             "#46039f"
            ],
            [
             0.2222222222222222,
             "#7201a8"
            ],
            [
             0.3333333333333333,
             "#9c179e"
            ],
            [
             0.4444444444444444,
             "#bd3786"
            ],
            [
             0.5555555555555556,
             "#d8576b"
            ],
            [
             0.6666666666666666,
             "#ed7953"
            ],
            [
             0.7777777777777778,
             "#fb9f3a"
            ],
            [
             0.8888888888888888,
             "#fdca26"
            ],
            [
             1,
             "#f0f921"
            ]
           ],
           "sequentialminus": [
            [
             0,
             "#0d0887"
            ],
            [
             0.1111111111111111,
             "#46039f"
            ],
            [
             0.2222222222222222,
             "#7201a8"
            ],
            [
             0.3333333333333333,
             "#9c179e"
            ],
            [
             0.4444444444444444,
             "#bd3786"
            ],
            [
             0.5555555555555556,
             "#d8576b"
            ],
            [
             0.6666666666666666,
             "#ed7953"
            ],
            [
             0.7777777777777778,
             "#fb9f3a"
            ],
            [
             0.8888888888888888,
             "#fdca26"
            ],
            [
             1,
             "#f0f921"
            ]
           ]
          },
          "colorway": [
           "#636efa",
           "#EF553B",
           "#00cc96",
           "#ab63fa",
           "#FFA15A",
           "#19d3f3",
           "#FF6692",
           "#B6E880",
           "#FF97FF",
           "#FECB52"
          ],
          "font": {
           "color": "#2a3f5f"
          },
          "geo": {
           "bgcolor": "white",
           "lakecolor": "white",
           "landcolor": "#E5ECF6",
           "showlakes": true,
           "showland": true,
           "subunitcolor": "white"
          },
          "hoverlabel": {
           "align": "left"
          },
          "hovermode": "closest",
          "mapbox": {
           "style": "light"
          },
          "paper_bgcolor": "white",
          "plot_bgcolor": "#E5ECF6",
          "polar": {
           "angularaxis": {
            "gridcolor": "white",
            "linecolor": "white",
            "ticks": ""
           },
           "bgcolor": "#E5ECF6",
           "radialaxis": {
            "gridcolor": "white",
            "linecolor": "white",
            "ticks": ""
           }
          },
          "scene": {
           "xaxis": {
            "backgroundcolor": "#E5ECF6",
            "gridcolor": "white",
            "gridwidth": 2,
            "linecolor": "white",
            "showbackground": true,
            "ticks": "",
            "zerolinecolor": "white"
           },
           "yaxis": {
            "backgroundcolor": "#E5ECF6",
            "gridcolor": "white",
            "gridwidth": 2,
            "linecolor": "white",
            "showbackground": true,
            "ticks": "",
            "zerolinecolor": "white"
           },
           "zaxis": {
            "backgroundcolor": "#E5ECF6",
            "gridcolor": "white",
            "gridwidth": 2,
            "linecolor": "white",
            "showbackground": true,
            "ticks": "",
            "zerolinecolor": "white"
           }
          },
          "shapedefaults": {
           "line": {
            "color": "#2a3f5f"
           }
          },
          "ternary": {
           "aaxis": {
            "gridcolor": "white",
            "linecolor": "white",
            "ticks": ""
           },
           "baxis": {
            "gridcolor": "white",
            "linecolor": "white",
            "ticks": ""
           },
           "bgcolor": "#E5ECF6",
           "caxis": {
            "gridcolor": "white",
            "linecolor": "white",
            "ticks": ""
           }
          },
          "title": {
           "x": 0.05
          },
          "xaxis": {
           "automargin": true,
           "gridcolor": "white",
           "linecolor": "white",
           "ticks": "",
           "title": {
            "standoff": 15
           },
           "zerolinecolor": "white",
           "zerolinewidth": 2
          },
          "yaxis": {
           "automargin": true,
           "gridcolor": "white",
           "linecolor": "white",
           "ticks": "",
           "title": {
            "standoff": 15
           },
           "zerolinecolor": "white",
           "zerolinewidth": 2
          }
         }
        },
        "title": {
         "text": "Countries"
        }
       }
      }
     },
     "metadata": {},
     "output_type": "display_data"
    }
   ],
   "source": [
    "fig = px.pie(dataset.head(100),names='country',title='Countries')\n",
    "fig.show()"
   ]
  },
  {
   "cell_type": "code",
   "execution_count": 67,
   "metadata": {},
   "outputs": [],
   "source": [
    "# flow = pd.crosstab(choco['company_location'],choco['country'])\n",
    "# flow['total'] = flow.sum(axis=1)\n",
    "# flow = flow.sort_values('total', ascending=False)\n",
    "# flow = flow.drop('total', axis=1)\n",
    "\n",
    "# fig, ax = plt.subplots(figsize=[20,5])\n",
    "# sns.heatmap(flow.head(10), cmap='Greens', linewidths=1)\n",
    "# ax.set_title('Goods Flow from Origin to Company Location')"
   ]
  },
  {
   "cell_type": "code",
   "execution_count": 68,
   "metadata": {},
   "outputs": [],
   "source": [
    "# flow = pd.crosstab(\n",
    "#     choco['company_location'],\n",
    "#     choco['review_year'],\n",
    "#     choco['rating'], aggfunc='mean'\n",
    "# )\n",
    "# flow['total'] = flow.sum(axis=1)\n",
    "# flow = flow.sort_values('total', ascending=False)\n",
    "# flow = flow.drop('total', axis=1)\n",
    "# fig, ax = plt.subplots(figsize=[20,10])\n",
    "# sns.heatmap(flow.head(20), cmap='magma', linewidths=1)\n",
    "# ax.set_title('Goods Flow from Company Location, Rating over the years')"
   ]
  },
  {
   "cell_type": "code",
   "execution_count": 69,
   "metadata": {},
   "outputs": [],
   "source": [
    "# flow = flow.T\n",
    "# fig, ax = plt.subplots(figsize=[20,10])\n",
    "# for c in choco['company_location'].value_counts().head(5).index:\n",
    "#     ax.plot(flow.index, flow[c], label=c)\n",
    "# ax.legend(ncol=1, loc=4)\n",
    "# ax.set_title('Timeline of Cocoa Rating by Company location')\n",
    "# plt.show()"
   ]
  }
 ],
 "metadata": {
  "kernelspec": {
   "display_name": "jason",
   "language": "python",
   "name": "python3"
  },
  "language_info": {
   "codemirror_mode": {
    "name": "ipython",
    "version": 3
   },
   "file_extension": ".py",
   "mimetype": "text/x-python",
   "name": "python",
   "nbconvert_exporter": "python",
   "pygments_lexer": "ipython3",
   "version": "3.9.16"
  },
  "orig_nbformat": 4
 },
 "nbformat": 4,
 "nbformat_minor": 2
}
